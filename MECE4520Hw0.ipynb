{
 "cells": [
  {
   "cell_type": "code",
   "execution_count": null,
   "metadata": {},
   "outputs": [
    {
     "name": "stdout",
     "output_type": "stream",
     "text": [
      "There are 6 pairs that sum to 5000 in the values provided are [(1030, 3970), (1510, 3490), (610, 4390), (1024, 3976), (187, 4813), (1570, 3430)]\n"
     ]
    }
   ],
   "source": [
    "import requests \n",
    "import pandas as pd\n",
    "import numpy as np \n",
    "url = (\n",
    "\"https://raw.githubusercontent.com/changyaochen/MECE4520/\"\n",
    "\"master/data/random_numbers.txt\"\n",
    ")\n",
    "response = requests.get(url)\n",
    "values = [int(x.strip()) for x in response.text.split(\"\\n\") if len(x) > 0]\n",
    "\n",
    "\n",
    "def find_pairs(sum, values: list):\n",
    "    pairs = []\n",
    "    for x in values:\n",
    "        target = sum - x \n",
    "        if target in values and x < target:\n",
    "            pairs.append((x, target))\n",
    "    return pairs, len(pairs)\n",
    "\n",
    "pairs, number_of_pairs = find_pairs(5000,values)\n",
    "print(f\"There are {number_of_pairs} pairs that sum to 5000 in the values provided are {pairs}\")"
   ]
  },
  {
   "cell_type": "code",
   "execution_count": 30,
   "metadata": {},
   "outputs": [
    {
     "name": "stdout",
     "output_type": "stream",
     "text": [
      "For the Iris-versicolor the minimal and maximal Petal length in cm are 3.0 and 5.1 respectively\n",
      "Among the 3 species, the species with the smallest average SepalWidth in cm is Iris-versicolor with a Sepal Width of 2.7700000000000005\n"
     ]
    }
   ],
   "source": [
    "iris_csv = (\n",
    "    \"https://raw.githubusercontent.com/changyaochen/MECE4520/master/data/iris.csv\"\n",
    ")\n",
    "df = pd.read_csv(iris_csv)\n",
    "\n",
    "\n",
    "def petal_length(df, species):\n",
    "    species_df = df[df[\"Species\"] == species]\n",
    "    petal_lengths = species_df[\"PetalLengthCm\"]\n",
    "    min_petal_length, max_petal_length = petal_lengths.min(), petal_lengths.max()\n",
    "    return min_petal_length, max_petal_length\n",
    "\n",
    "species = \"Iris-versicolor\"\n",
    "min_petal_length, max_petal_length = petal_length(df, species)\n",
    "\n",
    "print(f\"For the {species} the minimal and maximal Petal length in cm are {min_petal_length} and {max_petal_length} respectively\")\n",
    "\n",
    "def min_sepal_width(df):\n",
    "    species_dfs = {}\n",
    "    for species in df['Species'].unique():\n",
    "        species_dfs[species] = df[df['Species'] == species]\n",
    "    \n",
    "    setosa_df = species_dfs['Iris-setosa']\n",
    "    versicolor_df = species_dfs['Iris-versicolor']\n",
    "    virginica_df = species_dfs['Iris-virginica']\n",
    "    \n",
    "    # Calculate means with species names\n",
    "    species_means = {\n",
    "        'Iris-setosa': setosa_df['SepalWidthCm'].mean(),\n",
    "        'Iris-versicolor': versicolor_df['SepalWidthCm'].mean(),\n",
    "        'Iris-virginica': virginica_df['SepalWidthCm'].mean()\n",
    "    }\n",
    "    \n",
    "    # Find the species with the lowest mean\n",
    "    min_species = min(species_means, key=species_means.get)\n",
    "    min_mean = species_means[min_species]\n",
    "    \n",
    "    return min_species, min_mean\n",
    "\n",
    "min_species, min_mean = min_sepal_width(df)\n",
    "print(f\"Among the 3 species, the species with the smallest average SepalWidth in cm is {min_species} with a Sepal Width of {min_mean} cm\")\n",
    "\n"
   ]
  },
  {
   "cell_type": "code",
   "execution_count": null,
   "metadata": {},
   "outputs": [],
   "source": []
  }
 ],
 "metadata": {
  "kernelspec": {
   "display_name": "data science for mechanical systems",
   "language": "python",
   "name": "python3"
  },
  "language_info": {
   "codemirror_mode": {
    "name": "ipython",
    "version": 3
   },
   "file_extension": ".py",
   "mimetype": "text/x-python",
   "name": "python",
   "nbconvert_exporter": "python",
   "pygments_lexer": "ipython3",
   "version": "3.12.5"
  }
 },
 "nbformat": 4,
 "nbformat_minor": 2
}
