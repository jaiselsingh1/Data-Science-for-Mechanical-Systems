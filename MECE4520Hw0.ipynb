{
 "cells": [
  {
   "cell_type": "code",
   "execution_count": 9,
   "metadata": {},
   "outputs": [],
   "source": [
    "import requests \n",
    "url = (\n",
    "\"https://raw.githubusercontent.com/changyaochen/MECE4520/\"\n",
    "\"master/data/random_numbers.txt\"\n",
    ")\n",
    "response = requests.get(url)\n",
    "values = [int(x.strip()) for x in response.text.split(\"\\n\") if len(x) > 0]\n",
    "\n",
    "\n",
    "def find_pairs(sum, values: list):\n",
    "    pairs = []\n",
    "    for x in values:\n",
    "        target = sum - x \n",
    "        if target in values and x < target:\n",
    "            pairs.append((x, target))\n",
    "    return pairs, len(pairs)\n",
    "\n",
    "pairs, number_of_pairs = find_pairs(5000,values)\n",
    "print(f\"There are {number_of_pairs} pairs that sum to 5000 in the values provided are {pairs}\")"
   ]
  }
 ],
 "metadata": {
  "kernelspec": {
   "display_name": "data science for mechanical systems",
   "language": "python",
   "name": "python3"
  },
  "language_info": {
   "codemirror_mode": {
    "name": "ipython",
    "version": 3
   },
   "file_extension": ".py",
   "mimetype": "text/x-python",
   "name": "python",
   "nbconvert_exporter": "python",
   "pygments_lexer": "ipython3",
   "version": "3.12.5"
  }
 },
 "nbformat": 4,
 "nbformat_minor": 2
}
